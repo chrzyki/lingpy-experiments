{
 "cells": [
  {
   "cell_type": "code",
   "execution_count": null,
   "metadata": {
    "collapsed": true
   },
   "outputs": [],
   "source": [
    "import check_clts_conformity\n",
    "import codecs"
   ]
  },
  {
   "cell_type": "code",
   "execution_count": null,
   "metadata": {},
   "outputs": [],
   "source": [
    "profile_as_segments =\\\n",
    "    C_check_clts_conformity.profile_to_segment_list('INPUT_PROFILE.tsv')\n",
    "aggregated =\\\n",
    "    C_check_clts_conformity.aggregate_segments(profile_as_segments)\n",
    "t =\\\n",
    "    C_check_clts_conformity.make_table(aggregated, verbose=False)\n",
    "\n",
    "with codecs.open('CLTS_out.txt', 'w', 'utf-8') as text_file:\n",
    "    s = C_check_clts_conformity.tabulate_print_table(t)\n",
    "    text_file.write(s)\n",
    "\n",
    "# -> Refer to CLTS_out.txt"
   ]
  }
 ],
 "metadata": {
  "kernelspec": {
   "display_name": "Python 2",
   "language": "python",
   "name": "python2"
  },
  "language_info": {
   "codemirror_mode": {
    "name": "ipython",
    "version": 2
   },
   "file_extension": ".py",
   "mimetype": "text/x-python",
   "name": "python",
   "nbconvert_exporter": "python",
   "pygments_lexer": "ipython2",
   "version": "2.7.6"
  }
 },
 "nbformat": 4,
 "nbformat_minor": 0
}
